{
  "cells": [
    {
      "cell_type": "markdown",
      "metadata": {},
      "source": [
        "### Importing all the necessary modules"
      ]
    },
    {
      "cell_type": "code",
      "execution_count": 2,
      "metadata": {
        "id": "B4orqKkYPxi_"
      },
      "outputs": [],
      "source": [
        "import cv2\n",
        "import imutils\n",
        "import numpy as np\n",
        "import pandas as pd\n",
        "import matplotlib.pyplot as plt\n",
        "# import imageio\n",
        "import os\n",
        "from os import listdir\n",
        "from PIL import Image\n",
        "from numpy import asarray\n",
        "from sklearn.utils import shuffle\n",
        "from sklearn.model_selection import train_test_split\n",
        "from sklearn.metrics import f1_score\n",
        "import tensorflow as tf\n",
        "from tensorflow import keras\n",
        "from tensorflow.keras.layers import Conv2D, Input, ZeroPadding2D, BatchNormalization, Activation, MaxPooling2D, Flatten, Dense\n",
        "from tensorflow.keras.models import Model, load_model\n",
        "from tensorflow.keras.callbacks import TensorBoard, ModelCheckpoint\n",
        "import time"
      ]
    },
    {
      "cell_type": "code",
      "execution_count": 2,
      "metadata": {
        "id": "fQFYfv8DQl0C"
      },
      "outputs": [],
      "source": [
        "# !mkdir -p ~/.kaggle\n",
        "# !cp kaggle.json ~/.kaggle/\n",
        "# !kaggle datasets download -d sartajbhuvaji/brain-tumor-classification-mri"
      ]
    },
    {
      "cell_type": "code",
      "execution_count": 3,
      "metadata": {
        "id": "Wf84kZKrRMGP"
      },
      "outputs": [],
      "source": [
        "# import zipfile\n",
        "# zip_ref = zipfile.ZipFile('/content/brain-tumor-classification-mri.zip', 'r')\n",
        "# zip_ref.extractall('/content')\n",
        "# zip_ref.close()"
      ]
    },
    {
      "cell_type": "code",
      "execution_count": 4,
      "metadata": {
        "colab": {
          "base_uri": "https://localhost:8080/"
        },
        "id": "Ke69YTeMRZC7",
        "outputId": "1b3e11f6-48d5-419e-e8db-ed8a233afc9a"
      },
      "outputs": [
        {
          "name": "stdout",
          "output_type": "stream",
          "text": [
            "Drive already mounted at /content/drive/; to attempt to forcibly remount, call drive.mount(\"/content/drive/\", force_remount=True).\n"
          ]
        }
      ],
      "source": [
        "#Mounting Google Drive\n",
        "# from google.colab import drive\n",
        "# drive.mount('/content/drive/')"
      ]
    },
    {
      "cell_type": "markdown",
      "metadata": {},
      "source": [
        "### Cropping & performing Grayscaling, Gaussian Blurring, Erosion, Dilation in a function called \"contour\""
      ]
    },
    {
      "cell_type": "code",
      "execution_count": 5,
      "metadata": {
        "colab": {
          "base_uri": "https://localhost:8080/",
          "height": 140
        },
        "id": "FMWnonh-Wgu-",
        "outputId": "ff18d441-7ca7-409c-feb7-ac170e33c216"
      },
      "outputs": [
        {
          "data": {
            "application/vnd.google.colaboratory.intrinsic+json": {
              "type": "string"
            },
            "text/plain": [
              "\" def crop_brain_contour(image, plot=False):\\n\\n    # Converting the image to grayscale, and blur it slightly\\n    gray = cv2.cvtColor(image, cv2.COLOR_BGR2GRAY)\\n    gray = cv2.GaussianBlur(gray, (5, 5), 0)\\n\\n    # Thresholding the image\\n    thresh = cv2.threshold(gray, 45, 255, cv2.THRESH_BINARY)[1]\\n    thresh = cv2.erode(thresh, None, iterations=2)\\n    thresh = cv2.dilate(thresh, None, iterations=2)\\n\\n    # Finding contours in thresholded image, then grab the largest one\\n    cnts = cv2.findContours(thresh.copy(), cv2.RETR_EXTERNAL, cv2.CHAIN_APPROX_SIMPLE)\\n    cnts = imutils.grab_contours(cnts)\\n    c = max(cnts, key=cv2.contourArea)\\n\\n    # Finding the extreme points\\n    extLeft = tuple(c[c[:, :, 0].argmin()][0])\\n    extRight = tuple(c[c[:, :, 0].argmax()][0])\\n    extTop = tuple(c[c[:, :, 1].argmin()][0])\\n    extBot = tuple(c[c[:, :, 1].argmax()][0])\\n\\n    # crop new image out of the original image using the four extreme points (left, right, top, bottom)\\n    new_image = image[extTop[1]:extBot[1], extLeft[0]:extRight[0]]\\n\\n    if plot:\\n        plt.figure()\\n\\n        plt.subplot(1, 2, 1)\\n        plt.imshow(image)\\n\\n        plt.tick_params(axis='both', which='both',\\n                        top=False, bottom=False, left=False, right=False,\\n                        labelbottom=False, labeltop=False, labelleft=False, labelright=False)\\n\\n        plt.title('Original Image')\\n\\n        plt.subplot(1, 2, 2)\\n        plt.imshow(new_image)\\n\\n        plt.tick_params(axis='both', which='both',\\n                        top=False, bottom=False, left=False, right=False,\\n                        labelbottom=False, labeltop=False, labelleft=False, labelright=False)\\n\\n        plt.title('Cropped Image')\\n\\n        plt.show()\\n\\n    return new_image \""
            ]
          },
          "execution_count": 5,
          "metadata": {},
          "output_type": "execute_result"
        }
      ],
      "source": [
        "def crop_brain_contour(image, plot=False):\n",
        "\n",
        "    # Converting the image to grayscale, and blur it slightly\n",
        "    gray = cv2.cvtColor(image, cv2.COLOR_BGR2GRAY) # convert an image from one color space to another\n",
        "    gray = cv2.GaussianBlur(gray, (5, 5), 0) # smoothing filter that reduces noise and enhances edges in an image\n",
        "\n",
        "    # Thresholding the image\n",
        "    thresh = cv2.threshold(gray, 45, 255, cv2.THRESH_BINARY)[1] # used to binarize an image. convert image to black and white\n",
        "    thresh = cv2.erode(thresh, None, iterations=2) # morphological operation that removes pixels from the edges of objects in an image.\n",
        "    thresh = cv2.dilate(thresh, None, iterations=2) # adds pixels to the edges of objects in an image.\n",
        "\n",
        "    # Finding contours in thresholded image, then grab the largest one\n",
        "    cnts = cv2.findContours(thresh.copy(), cv2.RETR_EXTERNAL, cv2.CHAIN_APPROX_SIMPLE) #  Contours are curves that connect continuous points with the same intensity.\n",
        "    cnts = imutils.grab_contours(cnts)\n",
        "    c = max(cnts, key=cv2.contourArea)\n",
        "\n",
        "    # Finding the extreme points\n",
        "    extLeft = tuple(c[c[:, :, 0].argmin()][0])\n",
        "    extRight = tuple(c[c[:, :, 0].argmax()][0])\n",
        "    extTop = tuple(c[c[:, :, 1].argmin()][0])\n",
        "    extBot = tuple(c[c[:, :, 1].argmax()][0])\n",
        "\n",
        "    # crop new image out of the original image using the four extreme points (left, right, top, bottom)\n",
        "    new_image = image[extTop[1]:extBot[1], extLeft[0]:extRight[0]]\n",
        "\n",
        "    if plot:\n",
        "        plt.figure()\n",
        "\n",
        "        plt.subplot(1, 2, 1)\n",
        "        plt.imshow(image)\n",
        "\n",
        "        plt.tick_params(axis='both', which='both',\n",
        "                        top=False, bottom=False, left=False, right=False,\n",
        "                        labelbottom=False, labeltop=False, labelleft=False, labelright=False)\n",
        "\n",
        "        plt.title('Original Image')\n",
        "\n",
        "        plt.subplot(1, 2, 2)\n",
        "        plt.imshow(new_image)\n",
        "\n",
        "        plt.tick_params(axis='both', which='both',\n",
        "                        top=False, bottom=False, left=False, right=False,\n",
        "                        labelbottom=False, labeltop=False, labelleft=False, labelright=False)\n",
        "\n",
        "        plt.title('Cropped Image')\n",
        "\n",
        "        plt.show()\n",
        "\n",
        "    return new_image"
      ]
    },
    {
      "cell_type": "markdown",
      "metadata": {},
      "source": [
        "### Cropping and resizing images"
      ]
    },
    {
      "cell_type": "code",
      "execution_count": 6,
      "metadata": {
        "colab": {
          "base_uri": "https://localhost:8080/",
          "height": 53
        },
        "id": "RV2No_E3XCw1",
        "outputId": "7f62b511-4b9c-4688-ec72-e149f140156a"
      },
      "outputs": [
        {
          "data": {
            "application/vnd.google.colaboratory.intrinsic+json": {
              "type": "string"
            },
            "text/plain": [
              "\" #Example image showing the cropped version of a Tumor Image\\nexample_img = cv2.imread('/content/Training/pituitary_tumor/p (1).jpg')\\nexample_new_img = crop_brain_contour(example_img, True)\\nprint(example_new_img) \""
            ]
          },
          "execution_count": 6,
          "metadata": {},
          "output_type": "execute_result"
        }
      ],
      "source": [
        "#Example image showing the cropped version of a Tumor Image\n",
        "# example_img = cv2.imread('/content/Training/pituitary_tumor/p (1).jpg')\n",
        "# example_new_img = crop_brain_contour(example_img, True)\n",
        "# print(example_new_img)"
      ]
    },
    {
      "cell_type": "code",
      "execution_count": 7,
      "metadata": {
        "colab": {
          "base_uri": "https://localhost:8080/",
          "height": 140
        },
        "id": "ZhVCv9mAYGBt",
        "outputId": "3941d854-99c1-4a3e-a529-40c957244ced"
      },
      "outputs": [
        {
          "data": {
            "application/vnd.google.colaboratory.intrinsic+json": {
              "type": "string"
            },
            "text/plain": [
              "' #Specifying the input Path for Input Images having Tumor\\npath = \"/content/Training/pituitary_tumor\"\\n#Cropping all the Tumor images & saving them in a new Directory called \"Cropped\"\\nimages = os.listdir(path)\\noutPath = \"/content/drive/MyDrive/Brain_tumor_images/Cropped\"\\nfor img in images:\\n    img_arr = cv2.imread(os.path.join(path,img))\\n    example_new_img = crop_brain_contour(img_arr, True)\\n    fullpath = os.path.join(outPath, img)\\n    imageio.imwrite(fullpath, example_new_img)\\n\\n\\n#Specifying the input Path for Input Images having Non Tumor\\n#Cropping Non Tumor Images & saving in \"Non_Tumor_Cropped\"\\npath = \"/content/Training/no_tumor\"\\noutPath = \"/content/drive/MyDrive/Brain_tumor_images/Non_Tumor_Cropped\"\\nimages = os.listdir(path)\\nfor img in images:\\n    img_arr = cv2.imread(os.path.join(path,img))\\n    example_new_img = crop_brain_contour(img_arr, True)\\n    fullpath = os.path.join(outPath, img)\\n    imageio.imwrite(fullpath, example_new_img)\\n    \\n\\n#Specifying the input Path for Input Images having Tumor\\npath = \"/content/Testing/pituitary_tumor\"\\n#Cropping all the Tumor images & saving them in a new Directory called \"Cropped\"\\nimages = os.listdir(path)\\noutPath = \"/content/drive/MyDrive/Brain_tumor_images/Testing/Tumor_Cropped\"\\nfor img in images:\\n    img_arr = cv2.imread(os.path.join(path,img))\\n    example_new_img = crop_brain_contour(img_arr, True)\\n    fullpath = os.path.join(outPath, img)\\n    imageio.imwrite(fullpath, example_new_img)\\n\\n\\n#Specifying the input Path for Input Images having Non Tumor\\n#Cropping Non Tumor Images & saving in \"Non_Tumor_Cropped\"\\npath = \"/content/Testing/no_tumor\"\\noutPath = \"/content/drive/MyDrive/Brain_tumor_images/Testing/Non_Tumor_Cropped\"\\nimages = os.listdir(path)\\nfor img in images:\\n    img_arr = cv2.imread(os.path.join(path,img))\\n    example_new_img = crop_brain_contour(img_arr, True)\\n    fullpath = os.path.join(outPath, img)\\n    imageio.imwrite(fullpath, example_new_img) '"
            ]
          },
          "execution_count": 7,
          "metadata": {},
          "output_type": "execute_result"
        }
      ],
      "source": [
        "# ''' #Specifying the input Path for Input Images having Tumor\n",
        "# path = \"/content/Training/pituitary_tumor\"\n",
        "# #Cropping all the Tumor images & saving them in a new Directory called \"Cropped\"\n",
        "# images = os.listdir(path)\n",
        "# outPath = \"/content/drive/MyDrive/Brain_tumor_images/Cropped\"\n",
        "# for img in images:\n",
        "#     img_arr = cv2.imread(os.path.join(path,img))\n",
        "#     example_new_img = crop_brain_contour(img_arr, True)\n",
        "#     fullpath = os.path.join(outPath, img)\n",
        "#     imageio.imwrite(fullpath, example_new_img)\n",
        "\n",
        "\n",
        "# #Specifying the input Path for Input Images having Non Tumor\n",
        "# #Cropping Non Tumor Images & saving in \"Non_Tumor_Cropped\"\n",
        "# path = \"/content/Training/no_tumor\"\n",
        "# outPath = \"/content/drive/MyDrive/Brain_tumor_images/Non_Tumor_Cropped\"\n",
        "# images = os.listdir(path)\n",
        "# for img in images:\n",
        "#     img_arr = cv2.imread(os.path.join(path,img))\n",
        "#     example_new_img = crop_brain_contour(img_arr, True)\n",
        "#     fullpath = os.path.join(outPath, img)\n",
        "#     imageio.imwrite(fullpath, example_new_img)\n",
        "\n",
        "\n",
        "# #Specifying the input Path for Input Images having Tumor\n",
        "# path = \"/content/Testing/pituitary_tumor\"\n",
        "# #Cropping all the Tumor images & saving them in a new Directory called \"Cropped\"\n",
        "# images = os.listdir(path)\n",
        "# outPath = \"/content/drive/MyDrive/Brain_tumor_images/Testing/Tumor_Cropped\"\n",
        "# for img in images:\n",
        "#     img_arr = cv2.imread(os.path.join(path,img))\n",
        "#     example_new_img = crop_brain_contour(img_arr, True)\n",
        "#     fullpath = os.path.join(outPath, img)\n",
        "#     imageio.imwrite(fullpath, example_new_img)\n",
        "\n",
        "\n",
        "# #Specifying the input Path for Input Images having Non Tumor\n",
        "# #Cropping Non Tumor Images & saving in \"Non_Tumor_Cropped\"\n",
        "# path = \"/content/Testing/no_tumor\"\n",
        "# outPath = \"/content/drive/MyDrive/Brain_tumor_images/Testing/Non_Tumor_Cropped\"\n",
        "# images = os.listdir(path)\n",
        "# for img in images:\n",
        "#     img_arr = cv2.imread(os.path.join(path,img))\n",
        "#     example_new_img = crop_brain_contour(img_arr, True)\n",
        "#     fullpath = os.path.join(outPath, img)\n",
        "#     imageio.imwrite(fullpath, example_new_img) '''"
      ]
    },
    {
      "cell_type": "markdown",
      "metadata": {
        "id": "urQyATRYctrr"
      },
      "source": [
        "# Generators and Normalization"
      ]
    },
    {
      "cell_type": "code",
      "execution_count": 3,
      "metadata": {
        "colab": {
          "base_uri": "https://localhost:8080/"
        },
        "id": "QN6cW7lZggfu",
        "outputId": "1e192cd3-38ca-4db8-d73d-b6cf799f2de4"
      },
      "outputs": [
        {
          "name": "stdout",
          "output_type": "stream",
          "text": [
            "Found 1222 files belonging to 1 classes.\n",
            "Found 210 files belonging to 1 classes.\n"
          ]
        }
      ],
      "source": [
        "# GENERATORS\n",
        "\n",
        "train_ds = keras.utils.image_dataset_from_directory(\n",
        "    directory=\"./Training/\",\n",
        "    labels=\"inferred\",\n",
        "    label_mode=\"int\",\n",
        "    image_size=(256, 256)\n",
        ")\n",
        "\n",
        "validation_ds = keras.utils.image_dataset_from_directory(\n",
        "    directory=\"./Testing/\",\n",
        "    labels=\"inferred\",\n",
        "    label_mode=\"int\",\n",
        "    image_size=(256, 256)\n",
        ")"
      ]
    },
    {
      "cell_type": "code",
      "execution_count": 4,
      "metadata": {
        "id": "M1GvbiPAwScD"
      },
      "outputs": [],
      "source": [
        "# Normalize\n",
        "\n",
        "def process(image,label):\n",
        "    image = tf.cast(image/255. ,tf.float32)\n",
        "    return image,label\n",
        "\n",
        "train_ds = train_ds.map(process)\n",
        "validation_ds = validation_ds.map(process)"
      ]
    },
    {
      "cell_type": "markdown",
      "metadata": {
        "id": "TiccFuMIc16W"
      },
      "source": [
        "# CNN with Over-Fitting"
      ]
    },
    {
      "cell_type": "code",
      "execution_count": 5,
      "metadata": {
        "id": "NT5Ufl_4wZHD"
      },
      "outputs": [],
      "source": [
        "# CNN Model\n",
        "from keras import Sequential\n",
        "model = Sequential()\n",
        "\n",
        "model.add(Conv2D(32, kernel_size=(3,3), padding=\"valid\", activation=\"relu\", input_shape=(256,256,3))) # convo layer with 32 filters and a kernel size of 3x3\n",
        "model.add(MaxPooling2D(pool_size=(2,2), strides=2, padding=\"valid\")) # max pooling layer with a pool size of 2x2.\n",
        "\n",
        "model.add(Conv2D(64, kernel_size=(3,3), padding=\"valid\", activation=\"relu\", input_shape=(256,256,3))) # The rectified linear unit (ReLU), outputs the input value if it is positive, and zero otherwise.\n",
        "model.add(MaxPooling2D(pool_size=(2,2), strides=2, padding=\"valid\")) # does not add any padding to the input image. output feature maps will be smaller than the input image.\n",
        "\n",
        "model.add(Conv2D(128, kernel_size=(3,3), padding=\"valid\", activation=\"relu\", input_shape=(256,256,3))) # used to control the size of the output feature maps\n",
        "model.add(MaxPooling2D(pool_size=(2,2), strides=2, padding=\"valid\")) # how the pooling window moves across the input feature maps\n",
        "\n",
        "model.add(Flatten()) # Flatten the output of the convolutional layer. reshaping layer that flattens the input data into a 1D\n",
        "\n",
        "model.add(Dense(128, activation=\"relu\")) # Add a fully connected layer with 128 neurons.\n",
        "model.add(Dense(64, activation=\"relu\"))\n",
        "model.add(Dense(1, activation=\"sigmoid\")) # used in the output layer of classification models to predict the probability of each class."
      ]
    },
    {
      "cell_type": "code",
      "execution_count": 6,
      "metadata": {
        "colab": {
          "base_uri": "https://localhost:8080/"
        },
        "id": "zBII6ATaw9w-",
        "outputId": "0b359d11-776f-4cfd-edbc-aea14af30d5c"
      },
      "outputs": [
        {
          "name": "stdout",
          "output_type": "stream",
          "text": [
            "Model: \"sequential\"\n",
            "_________________________________________________________________\n",
            " Layer (type)                Output Shape              Param #   \n",
            "=================================================================\n",
            " conv2d (Conv2D)             (None, 254, 254, 32)      896       \n",
            "                                                                 \n",
            " max_pooling2d (MaxPooling2  (None, 127, 127, 32)      0         \n",
            " D)                                                              \n",
            "                                                                 \n",
            " conv2d_1 (Conv2D)           (None, 125, 125, 64)      18496     \n",
            "                                                                 \n",
            " max_pooling2d_1 (MaxPoolin  (None, 62, 62, 64)        0         \n",
            " g2D)                                                            \n",
            "                                                                 \n",
            " conv2d_2 (Conv2D)           (None, 60, 60, 128)       73856     \n",
            "                                                                 \n",
            " max_pooling2d_2 (MaxPoolin  (None, 30, 30, 128)       0         \n",
            " g2D)                                                            \n",
            "                                                                 \n",
            " flatten (Flatten)           (None, 115200)            0         \n",
            "                                                                 \n",
            " dense (Dense)               (None, 128)               14745728  \n",
            "                                                                 \n",
            " dense_1 (Dense)             (None, 64)                8256      \n",
            "                                                                 \n",
            " dense_2 (Dense)             (None, 1)                 65        \n",
            "                                                                 \n",
            "=================================================================\n",
            "Total params: 14847297 (56.64 MB)\n",
            "Trainable params: 14847297 (56.64 MB)\n",
            "Non-trainable params: 0 (0.00 Byte)\n",
            "_________________________________________________________________\n"
          ]
        }
      ],
      "source": [
        "model.summary()"
      ]
    },
    {
      "cell_type": "code",
      "execution_count": 7,
      "metadata": {
        "colab": {
          "base_uri": "https://localhost:8080/"
        },
        "id": "YjSji5YYxPmi",
        "outputId": "30032394-2b25-4129-e200-89fe6309c69a"
      },
      "outputs": [
        {
          "name": "stdout",
          "output_type": "stream",
          "text": [
            "Epoch 1/10\n"
          ]
        },
        {
          "name": "stdout",
          "output_type": "stream",
          "text": [
            "39/39 [==============================] - 109s 3s/step - loss: 0.0180 - accuracy: 0.9918 - val_loss: 0.0000e+00 - val_accuracy: 1.0000\n",
            "Epoch 2/10\n",
            "39/39 [==============================] - 89s 2s/step - loss: 0.0000e+00 - accuracy: 1.0000 - val_loss: 0.0000e+00 - val_accuracy: 1.0000\n",
            "Epoch 3/10\n",
            "39/39 [==============================] - 82s 2s/step - loss: 0.0000e+00 - accuracy: 1.0000 - val_loss: 0.0000e+00 - val_accuracy: 1.0000\n",
            "Epoch 4/10\n",
            "39/39 [==============================] - 83s 2s/step - loss: 0.0000e+00 - accuracy: 1.0000 - val_loss: 0.0000e+00 - val_accuracy: 1.0000\n",
            "Epoch 5/10\n",
            "39/39 [==============================] - 82s 2s/step - loss: 0.0000e+00 - accuracy: 1.0000 - val_loss: 0.0000e+00 - val_accuracy: 1.0000\n",
            "Epoch 6/10\n",
            "39/39 [==============================] - 88s 2s/step - loss: 0.0000e+00 - accuracy: 1.0000 - val_loss: 0.0000e+00 - val_accuracy: 1.0000\n",
            "Epoch 7/10\n",
            "39/39 [==============================] - 88s 2s/step - loss: 0.0000e+00 - accuracy: 1.0000 - val_loss: 0.0000e+00 - val_accuracy: 1.0000\n",
            "Epoch 8/10\n",
            "39/39 [==============================] - 88s 2s/step - loss: 0.0000e+00 - accuracy: 1.0000 - val_loss: 0.0000e+00 - val_accuracy: 1.0000\n",
            "Epoch 9/10\n",
            "39/39 [==============================] - 88s 2s/step - loss: 0.0000e+00 - accuracy: 1.0000 - val_loss: 0.0000e+00 - val_accuracy: 1.0000\n",
            "Epoch 10/10\n",
            "39/39 [==============================] - 86s 2s/step - loss: 0.0000e+00 - accuracy: 1.0000 - val_loss: 0.0000e+00 - val_accuracy: 1.0000\n"
          ]
        }
      ],
      "source": [
        "model.compile(optimizer=\"adam\", loss=\"binary_crossentropy\", metrics=[\"accuracy\"]) # stochastic gradient descent (SGD) optimizer\n",
        "history = model.fit(train_ds, epochs=10, validation_data=validation_ds)"
      ]
    },
    {
      "cell_type": "code",
      "execution_count": 8,
      "metadata": {
        "id": "eiSUl5X9xXgM"
      },
      "outputs": [
        {
          "data": {
            "image/png": "[encoded data removed]",
            "text/plain": [
              "<Figure size 640x480 with 1 Axes>"
            ]
          },
          "metadata": {},
          "output_type": "display_data"
        }
      ],
      "source": [
        "import matplotlib.pyplot as plt\n",
        "plt.plot(history.history[\"accuracy\"], color=\"red\", label=\"train\")\n",
        "plt.plot(history.history[\"val_accuracy\"], color=\"blue\", label=\"validation\")\n",
        "plt.legend()\n",
        "plt.show()"
      ]
    },
    {
      "cell_type": "code",
      "execution_count": 9,
      "metadata": {
        "id": "OzfIpJ-Tya8H"
      },
      "outputs": [
        {
          "data": {
            "image/png": "[encoded data removed]",
            "text/plain": [
              "<Figure size 640x480 with 1 Axes>"
            ]
          },
          "metadata": {},
          "output_type": "display_data"
        }
      ],
      "source": [
        "plt.plot(history.history[\"loss\"], color=\"red\", label=\"train\")\n",
        "plt.plot(history.history[\"val_loss\"], color=\"blue\", label=\"validation\")\n",
        "plt.legend()\n",
        "plt.show()"
      ]
    },
    {
      "cell_type": "markdown",
      "metadata": {
        "id": "8d0CMBP6c-vw"
      },
      "source": [
        "# CNN after reducing Over-Fitting"
      ]
    },
    {
      "cell_type": "code",
      "execution_count": 10,
      "metadata": {
        "colab": {
          "base_uri": "https://localhost:8080/",
          "height": 140
        },
        "id": "MBjOvPZ_ydKh",
        "outputId": "4e17ff55-4239-44c0-f9a5-dbaa5ad41a0c"
      },
      "outputs": [
        {
          "name": "stdout",
          "output_type": "stream",
          "text": [
            "Model: \"sequential_1\"\n",
            "_________________________________________________________________\n",
            " Layer (type)                Output Shape              Param #   \n",
            "=================================================================\n",
            " conv2d_3 (Conv2D)           (None, 254, 254, 32)      896       \n",
            "                                                                 \n",
            " batch_normalization (Batch  (None, 254, 254, 32)      128       \n",
            " Normalization)                                                  \n",
            "                                                                 \n",
            " max_pooling2d_3 (MaxPoolin  (None, 127, 127, 32)      0         \n",
            " g2D)                                                            \n",
            "                                                                 \n",
            " conv2d_4 (Conv2D)           (None, 125, 125, 64)      18496     \n",
            "                                                                 \n",
            " batch_normalization_1 (Bat  (None, 125, 125, 64)      256       \n",
            " chNormalization)                                                \n",
            "                                                                 \n",
            " max_pooling2d_4 (MaxPoolin  (None, 62, 62, 64)        0         \n",
            " g2D)                                                            \n",
            "                                                                 \n",
            " conv2d_5 (Conv2D)           (None, 60, 60, 128)       73856     \n",
            "                                                                 \n",
            " batch_normalization_2 (Bat  (None, 60, 60, 128)       512       \n",
            " chNormalization)                                                \n",
            "                                                                 \n",
            " max_pooling2d_5 (MaxPoolin  (None, 30, 30, 128)       0         \n",
            " g2D)                                                            \n",
            "                                                                 \n",
            " flatten_1 (Flatten)         (None, 115200)            0         \n",
            "                                                                 \n",
            " dense_3 (Dense)             (None, 128)               14745728  \n",
            "                                                                 \n",
            " dropout (Dropout)           (None, 128)               0         \n",
            "                                                                 \n",
            " dense_4 (Dense)             (None, 64)                8256      \n",
            "                                                                 \n",
            " dropout_1 (Dropout)         (None, 64)                0         \n",
            "                                                                 \n",
            " dense_5 (Dense)             (None, 1)                 65        \n",
            "                                                                 \n",
            "=================================================================\n",
            "Total params: 14848193 (56.64 MB)\n",
            "Trainable params: 14847745 (56.64 MB)\n",
            "Non-trainable params: 448 (1.75 KB)\n",
            "_________________________________________________________________\n"
          ]
        }
      ],
      "source": [
        "from keras.layers import BatchNormalization, Dropout\n",
        "\n",
        "model = Sequential()\n",
        "model.add(Conv2D(32, kernel_size=(3,3), padding=\"valid\", activation=\"relu\", input_shape=(256,256,3)))\n",
        "model.add(BatchNormalization()) # reduce the internal covariate shift that can occur during training.\n",
        "model.add(MaxPooling2D(pool_size=(2,2), strides=2, padding=\"valid\"))\n",
        "\n",
        "model.add(Conv2D(64, kernel_size=(3,3), padding=\"valid\", activation=\"relu\", input_shape=(256,256,3)))\n",
        "model.add(BatchNormalization())\n",
        "model.add(MaxPooling2D(pool_size=(2,2), strides=2, padding=\"valid\"))\n",
        "\n",
        "model.add(Conv2D(128, kernel_size=(3,3), padding=\"valid\", activation=\"relu\", input_shape=(256,256,3)))\n",
        "model.add(BatchNormalization())\n",
        "model.add(MaxPooling2D(pool_size=(2,2), strides=2, padding=\"valid\"))\n",
        "\n",
        "model.add(Flatten())\n",
        "\n",
        "model.add(Dense(128, activation=\"relu\"))\n",
        "model.add(Dropout(0.1)) # works by randomly dropping out neurons during training, which forces the network to learn more robust features\n",
        "model.add(Dense(64, activation=\"relu\"))\n",
        "model.add(Dropout(0.1))\n",
        "model.add(Dense(1, activation=\"sigmoid\"))\n",
        "\n",
        "model.summary()"
      ]
    },
    {
      "cell_type": "code",
      "execution_count": 12,
      "metadata": {
        "colab": {
          "base_uri": "https://localhost:8080/",
          "height": 53
        },
        "id": "5Y3vnFSiygs-",
        "outputId": "f53e12a2-8dba-40e6-c4be-c10dbcd26400"
      },
      "outputs": [
        {
          "name": "stdout",
          "output_type": "stream",
          "text": [
            "Epoch 1/5\n"
          ]
        },
        {
          "name": "stdout",
          "output_type": "stream",
          "text": [
            "39/39 [==============================] - 139s 3s/step - loss: 0.0000e+00 - accuracy: 1.0000 - val_loss: 72.7865 - val_accuracy: 0.0000e+00\n",
            "Epoch 2/5\n",
            "39/39 [==============================] - 140s 4s/step - loss: 0.0000e+00 - accuracy: 1.0000 - val_loss: 60.7881 - val_accuracy: 0.0000e+00\n",
            "Epoch 3/5\n",
            "39/39 [==============================] - 132s 3s/step - loss: 0.0000e+00 - accuracy: 1.0000 - val_loss: 36.5942 - val_accuracy: 0.0333\n",
            "Epoch 4/5\n",
            "39/39 [==============================] - 124s 3s/step - loss: 0.0000e+00 - accuracy: 1.0000 - val_loss: 13.0773 - val_accuracy: 0.5333\n",
            "Epoch 5/5\n",
            "39/39 [==============================] - 121s 3s/step - loss: 0.0000e+00 - accuracy: 1.0000 - val_loss: 5.2249 - val_accuracy: 0.7952\n"
          ]
        }
      ],
      "source": [
        "model.compile(optimizer=\"adam\", loss=\"binary_crossentropy\", metrics=[\"accuracy\"])\n",
        "history = model.fit(train_ds, epochs=5, validation_data=validation_ds)"
      ]
    },
    {
      "cell_type": "code",
      "execution_count": 13,
      "metadata": {
        "colab": {
          "base_uri": "https://localhost:8080/",
          "height": 53
        },
        "id": "v0y4puExyjjn",
        "outputId": "8b4bee63-00ac-441a-9a78-1e0dcf92b309"
      },
      "outputs": [
        {
          "data": {
            "image/png": "[encoded data removed]",
            "text/plain": [
              "<Figure size 640x480 with 1 Axes>"
            ]
          },
          "metadata": {},
          "output_type": "display_data"
        }
      ],
      "source": [
        "plt.plot(history.history[\"accuracy\"], color=\"red\", label=\"train\")\n",
        "plt.plot(history.history[\"val_accuracy\"], color=\"blue\", label=\"validation\")\n",
        "plt.legend()\n",
        "plt.show()"
      ]
    },
    {
      "cell_type": "code",
      "execution_count": 14,
      "metadata": {
        "colab": {
          "base_uri": "https://localhost:8080/",
          "height": 53
        },
        "id": "BnmVajhEzDEO",
        "outputId": "21dfc3c0-b7a1-4f8a-836e-6899765b021b"
      },
      "outputs": [
        {
          "data": {
            "image/png": "[encoded data removed]",
            "text/plain": [
              "<Figure size 640x480 with 1 Axes>"
            ]
          },
          "metadata": {},
          "output_type": "display_data"
        }
      ],
      "source": [
        "plt.plot(history.history[\"loss\"], color=\"red\", label=\"train\")\n",
        "plt.plot(history.history[\"val_loss\"], color=\"blue\", label=\"validation\")\n",
        "plt.legend()\n",
        "plt.show()"
      ]
    },
    {
      "cell_type": "code",
      "execution_count": 15,
      "metadata": {
        "id": "4vnObiYvzFCa"
      },
      "outputs": [
        {
          "data": {
            "text/plain": [
              "['loss', 'accuracy']"
            ]
          },
          "execution_count": 15,
          "metadata": {},
          "output_type": "execute_result"
        }
      ],
      "source": [
        "model.metrics_names"
      ]
    },
    {
      "cell_type": "markdown",
      "metadata": {
        "id": "Of1I846Fch9x"
      },
      "source": [
        "# Custom Dataset Creation"
      ]
    },
    {
      "cell_type": "code",
      "execution_count": 25,
      "metadata": {
        "id": "PCzoI1--lrj5"
      },
      "outputs": [],
      "source": [
        "np.random.seed(1234)"
      ]
    },
    {
      "cell_type": "code",
      "execution_count": 26,
      "metadata": {
        "colab": {
          "base_uri": "https://localhost:8080/",
          "height": 140
        },
        "id": "O7JfIeteb6pM",
        "outputId": "6adf4f53-0c8f-4ce2-b018-029f0ac3dcd8"
      },
      "outputs": [
        {
          "data": {
            "application/vnd.google.colaboratory.intrinsic+json": {
              "type": "string"
            },
            "text/plain": [
              "' X = []\\ny = []\\n\\n# TRAINING TUMOR\\npath = \"/content/drive/MyDrive/Brain_tumor_images/Training/Tumor_Cropped/\"\\nimages = os.listdir(path)\\nfor img in images:\\n    img_arr = cv2.imread(os.path.join(path, img))\\n    image = cv2.resize(img_arr, (300, 300), interpolation=cv2.INTER_CUBIC)\\n    image = image / 255\\n    # np.append(X, image, axis=0)\\n    # np.append(y, 1, axis=0)\\n    X.append(image)\\n    y.append(1)\\n\\n# TRAINING NON TUMOR\\npath = \"/content/drive/MyDrive/Brain_tumor_images/Training/Non_Tumor_Cropped/\"\\nimages = os.listdir(path)\\nfor img in images:\\n    img_arr = cv2.imread(os.path.join(path, img))\\n    image = cv2.resize(img_arr, (300, 300), interpolation=cv2.INTER_CUBIC)\\n    image = image / 255\\n    # np.append(X, image, axis=0)\\n    # np.append(y, 1, axis=0)\\n    X.append(image)\\n    y.append(0)\\n\\n# TESTING TUMOR\\npath = \"/content/drive/MyDrive/Brain_tumor_images/Testing/Tumor_Cropped/\"\\nimages = os.listdir(path)\\nfor img in images:\\n    img_arr = cv2.imread(os.path.join(path, img))\\n    image = cv2.resize(img_arr, (300, 300), interpolation=cv2.INTER_CUBIC)\\n    image = image / 255\\n    # np.append(X, image, axis=0)\\n    # np.append(y, 1, axis=0)\\n    X.append(image)\\n    y.append(1)\\n\\n# TESTING NON TUMOR\\npath = \"/content/drive/MyDrive/Brain_tumor_images/Testing/Non_Tumor_Cropped/\"\\nimages = os.listdir(path)\\nfor img in images:\\n    img_arr = cv2.imread(os.path.join(path, img))\\n    image = cv2.resize(img_arr, (300, 300), interpolation=cv2.INTER_CUBIC)\\n    image = image / 255\\n    # np.append(X, image, axis=0)\\n    # np.append(y, 1, axis=0)\\n    X.append(image)\\n    y.append(0)\\n\\nX = np.array(X)\\ny = np.array(y)\\n\\nX, y = shuffle(X, y)\\n\\nprint(X.shape, y.shape) '"
            ]
          },
          "execution_count": 26,
          "metadata": {},
          "output_type": "execute_result"
        }
      ],
      "source": [
        "X = []\n",
        "y = []\n",
        "\n",
        "path = \"./Training/Tumor_Cropped/\"\n",
        "images = os.listdir(path)\n",
        "for img in images:\n",
        "    img_arr = cv2.imread(os.path.join(path, img))\n",
        "    image = cv2.resize(img_arr, (300, 300), interpolation=cv2.INTER_CUBIC)\n",
        "    image = image / 255\n",
        "    X.append(image)\n",
        "    y.append(1)\n",
        "\n",
        "# TRAINING NON TUMOR\n",
        "path = \"./Training/Non_Tumor_Cropped/\"\n",
        "images = os.listdir(path)\n",
        "for img in images:\n",
        "    img_arr = cv2.imread(os.path.join(path, img))\n",
        "    image = cv2.resize(img_arr, (300, 300), interpolation=cv2.INTER_CUBIC)\n",
        "    image = image / 255\n",
        "    X.append(image)\n",
        "    y.append(0)\n",
        "\n",
        "# TESTING TUMOR\n",
        "path = \"./Testing/Tumor_Cropped/\"\n",
        "images = os.listdir(path)\n",
        "for img in images:\n",
        "    img_arr = cv2.imread(os.path.join(path, img))\n",
        "    image = cv2.resize(img_arr, (300, 300), interpolation=cv2.INTER_CUBIC)\n",
        "    image = image / 255\n",
        "    X.append(image)\n",
        "    y.append(1)\n",
        "\n",
        "# TESTING NON TUMOR\n",
        "path = \"./Testing/Non_Tumor_Cropped/\"\n",
        "images = os.listdir(path)\n",
        "for img in images:\n",
        "    img_arr = cv2.imread(os.path.join(path, img))\n",
        "    image = cv2.resize(img_arr, (300, 300), interpolation=cv2.INTER_CUBIC)\n",
        "    image = image / 255\n",
        "    X.append(image)\n",
        "    y.append(0)\n",
        "\n",
        "X = np.array(X)\n",
        "y = np.array(y)\n",
        "\n",
        "X, y = shuffle(X, y)\n",
        "\n",
        "print(X.shape, y.shape)"
      ]
    },
    {
      "cell_type": "code",
      "execution_count": 27,
      "metadata": {
        "id": "AUnqkJKDi4IE"
      },
      "outputs": [],
      "source": [
        "# with open(\"/content/drive/MyDrive/X_DF.npy\", \"wb\") as f:\n",
        "#     np.save(f, X)\n",
        "# with open(\"/content/drive/MyDrive/y_DF.npy\", \"wb\") as f:\n",
        "#     np.save(f, y)"
      ]
    },
    {
      "cell_type": "code",
      "execution_count": 18,
      "metadata": {
        "id": "rHehBT8AlSsN"
      },
      "outputs": [],
      "source": [
        "with open(\"./X_DF.npy\", \"rb\") as f:\n",
        "    X = np.load(f)\n",
        "with open(\"./y_DF.npy\", \"rb\") as f:\n",
        "    y = np.load(f)"
      ]
    },
    {
      "cell_type": "markdown",
      "metadata": {
        "id": "-xcjrlgNdJz3"
      },
      "source": [
        "# CNN - Another Method"
      ]
    },
    {
      "cell_type": "markdown",
      "metadata": {},
      "source": [
        "- Training: 70% of sample data\n",
        "- Testing: 15% of sample data\n",
        "- Validation: 15% of sample data"
      ]
    },
    {
      "cell_type": "code",
      "execution_count": 19,
      "metadata": {
        "colab": {
          "base_uri": "https://localhost:8080/",
          "height": 105
        },
        "id": "HnEOKgG2m_sg",
        "outputId": "7f0bd787-98e5-46eb-f254-82d551a7ad4d"
      },
      "outputs": [
        {
          "name": "stdout",
          "output_type": "stream",
          "text": [
            "number of training examples = 1002\n",
            "number of development examples = 215\n",
            "number of test examples = 215\n",
            "X_train shape: (1002, 300, 300, 3)\n",
            "Y_train shape: (1002,)\n",
            "X_val (dev) shape: (215, 300, 300, 3)\n",
            "Y_val (dev) shape: (215,)\n",
            "X_test shape: (215, 300, 300, 3)\n",
            "Y_test shape: (215,)\n"
          ]
        }
      ],
      "source": [
        "X_train, X_test_val, y_train, y_test_val = train_test_split(X, y, test_size=0.3) # CHANGE IT\n",
        "X_test, X_val, y_test, y_val = train_test_split(X_test_val, y_test_val, test_size=0.5)\n",
        "\n",
        "print (\"number of training examples = \" + str(X_train.shape[0]))\n",
        "print (\"number of development examples = \" + str(X_val.shape[0]))\n",
        "print (\"number of test examples = \" + str(X_test.shape[0]))\n",
        "print (\"X_train shape: \" + str(X_train.shape))\n",
        "print (\"Y_train shape: \" + str(y_train.shape))\n",
        "print (\"X_val (dev) shape: \" + str(X_val.shape))\n",
        "print (\"Y_val (dev) shape: \" + str(y_val.shape))\n",
        "print (\"X_test shape: \" + str(X_test.shape))\n",
        "print (\"Y_test shape: \" + str(y_test.shape))"
      ]
    },
    {
      "cell_type": "code",
      "execution_count": 20,
      "metadata": {
        "colab": {
          "base_uri": "https://localhost:8080/",
          "height": 140
        },
        "id": "HUF22rFPprGG",
        "outputId": "3ca2a7d9-831f-4f66-db31-3b0fb21ee0ea"
      },
      "outputs": [
        {
          "name": "stdout",
          "output_type": "stream",
          "text": [
            "Model: \"sequential_2\"\n",
            "_________________________________________________________________\n",
            " Layer (type)                Output Shape              Param #   \n",
            "=================================================================\n",
            " conv2d_6 (Conv2D)           (None, 298, 298, 32)      896       \n",
            "                                                                 \n",
            " batch_normalization_3 (Bat  (None, 298, 298, 32)      128       \n",
            " chNormalization)                                                \n",
            "                                                                 \n",
            " max_pooling2d_6 (MaxPoolin  (None, 149, 149, 32)      0         \n",
            " g2D)                                                            \n",
            "                                                                 \n",
            " conv2d_7 (Conv2D)           (None, 147, 147, 64)      18496     \n",
            "                                                                 \n",
            " batch_normalization_4 (Bat  (None, 147, 147, 64)      256       \n",
            " chNormalization)                                                \n",
            "                                                                 \n",
            " max_pooling2d_7 (MaxPoolin  (None, 73, 73, 64)        0         \n",
            " g2D)                                                            \n",
            "                                                                 \n",
            " conv2d_8 (Conv2D)           (None, 71, 71, 128)       73856     \n",
            "                                                                 \n",
            " batch_normalization_5 (Bat  (None, 71, 71, 128)       512       \n",
            " chNormalization)                                                \n",
            "                                                                 \n",
            " max_pooling2d_8 (MaxPoolin  (None, 35, 35, 128)       0         \n",
            " g2D)                                                            \n",
            "                                                                 \n",
            " flatten_2 (Flatten)         (None, 156800)            0         \n",
            "                                                                 \n",
            " dense_6 (Dense)             (None, 128)               20070528  \n",
            "                                                                 \n",
            " dropout_2 (Dropout)         (None, 128)               0         \n",
            "                                                                 \n",
            " dense_7 (Dense)             (None, 64)                8256      \n",
            "                                                                 \n",
            " dropout_3 (Dropout)         (None, 64)                0         \n",
            "                                                                 \n",
            " dense_8 (Dense)             (None, 1)                 65        \n",
            "                                                                 \n",
            "=================================================================\n",
            "Total params: 20172993 (76.95 MB)\n",
            "Trainable params: 20172545 (76.95 MB)\n",
            "Non-trainable params: 448 (1.75 KB)\n",
            "_________________________________________________________________\n"
          ]
        }
      ],
      "source": [
        "from keras.layers import BatchNormalization, Dropout\n",
        "from keras import Sequential\n",
        "\n",
        "model = Sequential()\n",
        "model.add(Conv2D(32, kernel_size=(3,3), padding=\"valid\", activation=\"relu\", input_shape=(300,300,3)))\n",
        "model.add(BatchNormalization())\n",
        "model.add(MaxPooling2D(pool_size=(2,2), strides=2, padding=\"valid\"))\n",
        "\n",
        "model.add(Conv2D(64, kernel_size=(3,3), padding=\"valid\", activation=\"relu\", input_shape=(300,300,3)))\n",
        "model.add(BatchNormalization())\n",
        "model.add(MaxPooling2D(pool_size=(2,2), strides=2, padding=\"valid\"))\n",
        "\n",
        "model.add(Conv2D(128, kernel_size=(3,3), padding=\"valid\", activation=\"relu\", input_shape=(300,300,3)))\n",
        "model.add(BatchNormalization())\n",
        "model.add(MaxPooling2D(pool_size=(2,2), strides=2, padding=\"valid\"))\n",
        "\n",
        "model.add(Flatten())\n",
        "\n",
        "model.add(Dense(128, activation=\"relu\"))\n",
        "model.add(Dropout(0.1))\n",
        "model.add(Dense(64, activation=\"relu\"))\n",
        "model.add(Dropout(0.1))\n",
        "model.add(Dense(1, activation=\"sigmoid\"))\n",
        "\n",
        "model.summary()"
      ]
    },
    {
      "cell_type": "code",
      "execution_count": 21,
      "metadata": {
        "colab": {
          "base_uri": "https://localhost:8080/",
          "height": 105
        },
        "id": "8GgDaqw2qtId",
        "outputId": "91027bc9-cf16-4cdc-933a-30b9794e7ca8"
      },
      "outputs": [],
      "source": [
        "model.compile(optimizer='adam', loss='binary_crossentropy', metrics=['accuracy'])\n",
        "\n",
        "# tensorboard\n",
        "log_file_name = f'brain_tumor_detection_cnn_{int(time.time())}'\n",
        "tensorboard = TensorBoard(log_dir=f'./Logs/{log_file_name}')\n",
        "\n",
        "# checkpoint\n",
        "# unique file name that will include the epoch and the validation (development) accuracy\n",
        "filepath=\"cnn-parameters-improvement-{epoch:02d}-{val_accuracy:.2f}\"\n",
        "\n",
        "# save the model with the best validation (development) accuracy till now\n",
        "checkpoint = ModelCheckpoint(\"./Models/{}.model\".format(filepath, monitor='val_accuracy', verbose=1, save_best_only=True, mode='max'))"
      ]
    },
    {
      "cell_type": "code",
      "execution_count": 22,
      "metadata": {
        "id": "IUVxJe-Ikk8-"
      },
      "outputs": [],
      "source": [
        "# Nicely formatted time string\n",
        "def hms_string(sec_elapsed):\n",
        "    h = int(sec_elapsed / (60 * 60))\n",
        "    m = int((sec_elapsed % (60 * 60)) / 60)\n",
        "    s = sec_elapsed % 60\n",
        "    return f\"{h}:{m}:{round(s,1)}\"\n",
        "\n",
        "\n",
        "def compute_f1_score(y_true, prob):\n",
        "    # convert the vector of probabilities to a target vector\n",
        "    y_pred = np.where(prob > 0.5, 1, 0)\n",
        "\n",
        "    score = f1_score(y_true, y_pred)\n",
        "\n",
        "    return score"
      ]
    },
    {
      "cell_type": "code",
      "execution_count": 23,
      "metadata": {
        "colab": {
          "base_uri": "https://localhost:8080/",
          "height": 70
        },
        "id": "I2GKjrqxhOlc",
        "outputId": "4b304edd-876d-4c1b-8e77-b280cc5f7276"
      },
      "outputs": [
        {
          "name": "stdout",
          "output_type": "stream",
          "text": [
            "Epoch 1/10\n",
            "32/32 [==============================] - ETA: 0s - loss: 6.5671 - accuracy: 0.8184INFO:tensorflow:Assets written to: ./Models\\cnn-parameters-improvement-01-0.80.model\\assets\n"
          ]
        },
        {
          "name": "stderr",
          "output_type": "stream",
          "text": [
            "INFO:tensorflow:Assets written to: ./Models\\cnn-parameters-improvement-01-0.80.model\\assets\n"
          ]
        },
        {
          "name": "stdout",
          "output_type": "stream",
          "text": [
            "32/32 [==============================] - 169s 5s/step - loss: 6.5671 - accuracy: 0.8184 - val_loss: 0.9908 - val_accuracy: 0.7953\n",
            "Epoch 2/10\n",
            "32/32 [==============================] - ETA: 0s - loss: 3.4866 - accuracy: 0.8842INFO:tensorflow:Assets written to: ./Models\\cnn-parameters-improvement-02-0.84.model\\assets\n"
          ]
        },
        {
          "name": "stderr",
          "output_type": "stream",
          "text": [
            "INFO:tensorflow:Assets written to: ./Models\\cnn-parameters-improvement-02-0.84.model\\assets\n"
          ]
        },
        {
          "name": "stdout",
          "output_type": "stream",
          "text": [
            "32/32 [==============================] - 166s 5s/step - loss: 3.4866 - accuracy: 0.8842 - val_loss: 1.2719 - val_accuracy: 0.8419\n",
            "Epoch 3/10\n",
            "32/32 [==============================] - ETA: 0s - loss: 2.3173 - accuracy: 0.9052INFO:tensorflow:Assets written to: ./Models\\cnn-parameters-improvement-03-0.78.model\\assets\n"
          ]
        },
        {
          "name": "stderr",
          "output_type": "stream",
          "text": [
            "INFO:tensorflow:Assets written to: ./Models\\cnn-parameters-improvement-03-0.78.model\\assets\n"
          ]
        },
        {
          "name": "stdout",
          "output_type": "stream",
          "text": [
            "32/32 [==============================] - 148s 5s/step - loss: 2.3173 - accuracy: 0.9052 - val_loss: 3.2760 - val_accuracy: 0.7814\n",
            "Epoch 4/10\n",
            "32/32 [==============================] - ETA: 0s - loss: 1.7884 - accuracy: 0.9062INFO:tensorflow:Assets written to: ./Models\\cnn-parameters-improvement-04-0.67.model\\assets\n"
          ]
        },
        {
          "name": "stderr",
          "output_type": "stream",
          "text": [
            "INFO:tensorflow:Assets written to: ./Models\\cnn-parameters-improvement-04-0.67.model\\assets\n"
          ]
        },
        {
          "name": "stdout",
          "output_type": "stream",
          "text": [
            "32/32 [==============================] - 150s 5s/step - loss: 1.7884 - accuracy: 0.9062 - val_loss: 11.7763 - val_accuracy: 0.6698\n",
            "Epoch 5/10\n",
            "32/32 [==============================] - ETA: 0s - loss: 1.0708 - accuracy: 0.9182INFO:tensorflow:Assets written to: ./Models\\cnn-parameters-improvement-05-0.67.model\\assets\n"
          ]
        },
        {
          "name": "stderr",
          "output_type": "stream",
          "text": [
            "INFO:tensorflow:Assets written to: ./Models\\cnn-parameters-improvement-05-0.67.model\\assets\n"
          ]
        },
        {
          "name": "stdout",
          "output_type": "stream",
          "text": [
            "32/32 [==============================] - 157s 5s/step - loss: 1.0708 - accuracy: 0.9182 - val_loss: 10.2291 - val_accuracy: 0.6698\n",
            "Epoch 6/10\n",
            "32/32 [==============================] - ETA: 0s - loss: 0.8780 - accuracy: 0.9182INFO:tensorflow:Assets written to: ./Models\\cnn-parameters-improvement-06-0.67.model\\assets\n"
          ]
        },
        {
          "name": "stderr",
          "output_type": "stream",
          "text": [
            "INFO:tensorflow:Assets written to: ./Models\\cnn-parameters-improvement-06-0.67.model\\assets\n"
          ]
        },
        {
          "name": "stdout",
          "output_type": "stream",
          "text": [
            "32/32 [==============================] - 142s 4s/step - loss: 0.8780 - accuracy: 0.9182 - val_loss: 9.0574 - val_accuracy: 0.6651\n",
            "Epoch 7/10\n",
            "32/32 [==============================] - ETA: 0s - loss: 0.8013 - accuracy: 0.9251INFO:tensorflow:Assets written to: ./Models\\cnn-parameters-improvement-07-0.82.model\\assets\n"
          ]
        },
        {
          "name": "stderr",
          "output_type": "stream",
          "text": [
            "INFO:tensorflow:Assets written to: ./Models\\cnn-parameters-improvement-07-0.82.model\\assets\n"
          ]
        },
        {
          "name": "stdout",
          "output_type": "stream",
          "text": [
            "32/32 [==============================] - 139s 4s/step - loss: 0.8013 - accuracy: 0.9251 - val_loss: 1.9656 - val_accuracy: 0.8233\n",
            "Epoch 8/10\n",
            "32/32 [==============================] - ETA: 0s - loss: 0.5256 - accuracy: 0.9311INFO:tensorflow:Assets written to: ./Models\\cnn-parameters-improvement-08-0.78.model\\assets\n"
          ]
        },
        {
          "name": "stderr",
          "output_type": "stream",
          "text": [
            "INFO:tensorflow:Assets written to: ./Models\\cnn-parameters-improvement-08-0.78.model\\assets\n"
          ]
        },
        {
          "name": "stdout",
          "output_type": "stream",
          "text": [
            "32/32 [==============================] - 137s 4s/step - loss: 0.5256 - accuracy: 0.9311 - val_loss: 3.9504 - val_accuracy: 0.7814\n",
            "Epoch 9/10\n",
            "32/32 [==============================] - ETA: 0s - loss: 0.6023 - accuracy: 0.9401INFO:tensorflow:Assets written to: ./Models\\cnn-parameters-improvement-09-0.71.model\\assets\n"
          ]
        },
        {
          "name": "stderr",
          "output_type": "stream",
          "text": [
            "INFO:tensorflow:Assets written to: ./Models\\cnn-parameters-improvement-09-0.71.model\\assets\n"
          ]
        },
        {
          "name": "stdout",
          "output_type": "stream",
          "text": [
            "32/32 [==============================] - 172s 5s/step - loss: 0.6023 - accuracy: 0.9401 - val_loss: 1.5853 - val_accuracy: 0.7116\n",
            "Epoch 10/10\n",
            "32/32 [==============================] - ETA: 0s - loss: 0.6242 - accuracy: 0.9202INFO:tensorflow:Assets written to: ./Models\\cnn-parameters-improvement-10-0.78.model\\assets\n"
          ]
        },
        {
          "name": "stderr",
          "output_type": "stream",
          "text": [
            "INFO:tensorflow:Assets written to: ./Models\\cnn-parameters-improvement-10-0.78.model\\assets\n"
          ]
        },
        {
          "name": "stdout",
          "output_type": "stream",
          "text": [
            "32/32 [==============================] - 158s 5s/step - loss: 0.6242 - accuracy: 0.9202 - val_loss: 1.5111 - val_accuracy: 0.7767\n",
            "Elapsed time: 0:25:49.5\n"
          ]
        }
      ],
      "source": [
        "# EPOCH = 10\n",
        "\n",
        "start_time = time.time()\n",
        "\n",
        "model.fit(\n",
        "    x=X_train,\n",
        "    y=y_train,\n",
        "    batch_size=32,\n",
        "    epochs=10,\n",
        "    validation_data=(X_val, y_val),\n",
        "    callbacks=[tensorboard, checkpoint]\n",
        ")\n",
        "\n",
        "end_time = time.time()\n",
        "execution_time = (end_time - start_time)\n",
        "print(f\"Elapsed time: {hms_string(execution_time)}\")"
      ]
    },
    {
      "cell_type": "code",
      "execution_count": 24,
      "metadata": {
        "colab": {
          "base_uri": "https://localhost:8080/",
          "height": 70
        },
        "id": "d1HBivcphOkI",
        "outputId": "cf40df2e-803a-42a1-84ed-a6c75da1c132"
      },
      "outputs": [
        {
          "name": "stdout",
          "output_type": "stream",
          "text": [
            "Epoch 1/3\n",
            "32/32 [==============================] - ETA: 0s - loss: 0.4268 - accuracy: 0.9411INFO:tensorflow:Assets written to: ./Models\\cnn-parameters-improvement-01-0.85.model\\assets\n"
          ]
        },
        {
          "name": "stderr",
          "output_type": "stream",
          "text": [
            "INFO:tensorflow:Assets written to: ./Models\\cnn-parameters-improvement-01-0.85.model\\assets\n"
          ]
        },
        {
          "name": "stdout",
          "output_type": "stream",
          "text": [
            "32/32 [==============================] - 164s 5s/step - loss: 0.4268 - accuracy: 0.9411 - val_loss: 1.1488 - val_accuracy: 0.8465\n",
            "Epoch 2/3\n",
            "32/32 [==============================] - ETA: 0s - loss: 0.3674 - accuracy: 0.9461INFO:tensorflow:Assets written to: ./Models\\cnn-parameters-improvement-02-0.93.model\\assets\n"
          ]
        },
        {
          "name": "stderr",
          "output_type": "stream",
          "text": [
            "INFO:tensorflow:Assets written to: ./Models\\cnn-parameters-improvement-02-0.93.model\\assets\n"
          ]
        },
        {
          "name": "stdout",
          "output_type": "stream",
          "text": [
            "32/32 [==============================] - 185s 6s/step - loss: 0.3674 - accuracy: 0.9461 - val_loss: 0.8287 - val_accuracy: 0.9256\n",
            "Epoch 3/3\n",
            "32/32 [==============================] - ETA: 0s - loss: 0.3210 - accuracy: 0.9481INFO:tensorflow:Assets written to: ./Models\\cnn-parameters-improvement-03-0.85.model\\assets\n"
          ]
        },
        {
          "name": "stderr",
          "output_type": "stream",
          "text": [
            "INFO:tensorflow:Assets written to: ./Models\\cnn-parameters-improvement-03-0.85.model\\assets\n"
          ]
        },
        {
          "name": "stdout",
          "output_type": "stream",
          "text": [
            "32/32 [==============================] - 300s 9s/step - loss: 0.3210 - accuracy: 0.9481 - val_loss: 2.2809 - val_accuracy: 0.8465\n",
            "Elapsed time: 0:10:56.0\n"
          ]
        }
      ],
      "source": [
        "# EPOCH = 3\n",
        "\n",
        "start_time = time.time()\n",
        "\n",
        "model.fit(\n",
        "    x=X_train,\n",
        "    y=y_train,\n",
        "    batch_size=32,\n",
        "    epochs=3,\n",
        "    validation_data=(X_val, y_val),\n",
        "    callbacks=[tensorboard, checkpoint]\n",
        ")\n",
        "\n",
        "end_time = time.time()\n",
        "execution_time = (end_time - start_time)\n",
        "print(f\"Elapsed time: {hms_string(execution_time)}\")"
      ]
    },
    {
      "cell_type": "code",
      "execution_count": 25,
      "metadata": {
        "colab": {
          "base_uri": "https://localhost:8080/",
          "height": 70
        },
        "id": "2MEcffq9mn-Z",
        "outputId": "db16eab1-e697-4646-e3e8-8a7a893ee493"
      },
      "outputs": [
        {
          "name": "stdout",
          "output_type": "stream",
          "text": [
            "Epoch 1/5\n",
            "32/32 [==============================] - ETA: 0s - loss: 0.2860 - accuracy: 0.9491INFO:tensorflow:Assets written to: ./Models\\cnn-parameters-improvement-01-0.90.model\\assets\n"
          ]
        },
        {
          "name": "stderr",
          "output_type": "stream",
          "text": [
            "INFO:tensorflow:Assets written to: ./Models\\cnn-parameters-improvement-01-0.90.model\\assets\n"
          ]
        },
        {
          "name": "stdout",
          "output_type": "stream",
          "text": [
            "32/32 [==============================] - 250s 8s/step - loss: 0.2860 - accuracy: 0.9491 - val_loss: 1.2434 - val_accuracy: 0.8977\n",
            "Epoch 2/5\n",
            "32/32 [==============================] - ETA: 0s - loss: 0.2804 - accuracy: 0.9331INFO:tensorflow:Assets written to: ./Models\\cnn-parameters-improvement-02-0.93.model\\assets\n"
          ]
        },
        {
          "name": "stderr",
          "output_type": "stream",
          "text": [
            "INFO:tensorflow:Assets written to: ./Models\\cnn-parameters-improvement-02-0.93.model\\assets\n"
          ]
        },
        {
          "name": "stdout",
          "output_type": "stream",
          "text": [
            "32/32 [==============================] - 156s 5s/step - loss: 0.2804 - accuracy: 0.9331 - val_loss: 0.6509 - val_accuracy: 0.9256\n",
            "Epoch 3/5\n",
            "32/32 [==============================] - ETA: 0s - loss: 0.3057 - accuracy: 0.9471INFO:tensorflow:Assets written to: ./Models\\cnn-parameters-improvement-03-0.96.model\\assets\n"
          ]
        },
        {
          "name": "stderr",
          "output_type": "stream",
          "text": [
            "INFO:tensorflow:Assets written to: ./Models\\cnn-parameters-improvement-03-0.96.model\\assets\n"
          ]
        },
        {
          "name": "stdout",
          "output_type": "stream",
          "text": [
            "32/32 [==============================] - 163s 5s/step - loss: 0.3057 - accuracy: 0.9471 - val_loss: 0.1674 - val_accuracy: 0.9581\n",
            "Epoch 4/5\n",
            "32/32 [==============================] - ETA: 0s - loss: 0.2968 - accuracy: 0.9391INFO:tensorflow:Assets written to: ./Models\\cnn-parameters-improvement-04-0.95.model\\assets\n"
          ]
        },
        {
          "name": "stderr",
          "output_type": "stream",
          "text": [
            "INFO:tensorflow:Assets written to: ./Models\\cnn-parameters-improvement-04-0.95.model\\assets\n"
          ]
        },
        {
          "name": "stdout",
          "output_type": "stream",
          "text": [
            "32/32 [==============================] - 151s 5s/step - loss: 0.2968 - accuracy: 0.9391 - val_loss: 0.3554 - val_accuracy: 0.9488\n",
            "Epoch 5/5\n",
            "32/32 [==============================] - ETA: 0s - loss: 0.2804 - accuracy: 0.9551INFO:tensorflow:Assets written to: ./Models\\cnn-parameters-improvement-05-0.98.model\\assets\n"
          ]
        },
        {
          "name": "stderr",
          "output_type": "stream",
          "text": [
            "INFO:tensorflow:Assets written to: ./Models\\cnn-parameters-improvement-05-0.98.model\\assets\n"
          ]
        },
        {
          "name": "stdout",
          "output_type": "stream",
          "text": [
            "32/32 [==============================] - 154s 5s/step - loss: 0.2804 - accuracy: 0.9551 - val_loss: 0.2300 - val_accuracy: 0.9767\n",
            "Elapsed time: 0:14:44.6\n"
          ]
        }
      ],
      "source": [
        "# EPOCH = 5\n",
        "\n",
        "start_time = time.time()\n",
        "\n",
        "model.fit(\n",
        "    x=X_train,\n",
        "    y=y_train,\n",
        "    batch_size=32,\n",
        "    epochs=5,\n",
        "    validation_data=(X_val, y_val),\n",
        "    callbacks=[tensorboard, checkpoint]\n",
        ")\n",
        "\n",
        "end_time = time.time()\n",
        "execution_time = (end_time - start_time)\n",
        "print(f\"Elapsed time: {hms_string(execution_time)}\")"
      ]
    },
    {
      "cell_type": "code",
      "execution_count": 26,
      "metadata": {
        "colab": {
          "base_uri": "https://localhost:8080/",
          "height": 36
        },
        "id": "AlwNS_CQrQR8",
        "outputId": "a2968784-e071-437a-ec5d-93fd46aa136f"
      },
      "outputs": [
        {
          "data": {
            "text/plain": [
              "dict_keys(['loss', 'accuracy', 'val_loss', 'val_accuracy'])"
            ]
          },
          "execution_count": 26,
          "metadata": {},
          "output_type": "execute_result"
        }
      ],
      "source": [
        "history = model.history.history\n",
        "history.keys()"
      ]
    },
    {
      "cell_type": "code",
      "execution_count": 27,
      "metadata": {
        "colab": {
          "base_uri": "https://localhost:8080/",
          "height": 88
        },
        "id": "041dCal7xmZs",
        "outputId": "ff39385d-38c0-42f4-9e8d-1b0525bab477"
      },
      "outputs": [
        {
          "data": {
            "image/png": "[encoded data removed]",
            "text/plain": [
              "<Figure size 640x480 with 1 Axes>"
            ]
          },
          "metadata": {},
          "output_type": "display_data"
        },
        {
          "data": {
            "image/png": "[encoded data removed]",
            "text/plain": [
              "<Figure size 640x480 with 1 Axes>"
            ]
          },
          "metadata": {},
          "output_type": "display_data"
        }
      ],
      "source": [
        "train_loss = history['loss']\n",
        "val_loss = history['val_loss']\n",
        "train_acc = history['accuracy']\n",
        "val_acc = history['val_accuracy']\n",
        "\n",
        "# Loss\n",
        "plt.figure()\n",
        "plt.plot(train_loss, label='Training Loss')\n",
        "plt.plot(val_loss, label='Validation Loss')\n",
        "plt.title('Loss')\n",
        "plt.legend()\n",
        "plt.show()\n",
        "\n",
        "# Accuracy\n",
        "plt.figure()\n",
        "plt.plot(train_acc, label='Training Accuracy')\n",
        "plt.plot(val_acc, label='Validation Accuracy')\n",
        "plt.title('Accuracy')\n",
        "plt.legend()\n",
        "plt.show()"
      ]
    },
    {
      "cell_type": "markdown",
      "metadata": {
        "id": "nDzsQ865dSlD"
      },
      "source": [
        "# CNN - Best Fit Model"
      ]
    },
    {
      "cell_type": "code",
      "execution_count": 28,
      "metadata": {
        "id": "u3_BoF7iulbC"
      },
      "outputs": [],
      "source": [
        "best_model = load_model(filepath='./Models/cnn-parameters-improvement-05-0.98.model/')"
      ]
    },
    {
      "cell_type": "code",
      "execution_count": 29,
      "metadata": {
        "id": "pN1pzmzyxu5Q"
      },
      "outputs": [
        {
          "name": "stdout",
          "output_type": "stream",
          "text": [
            "7/7 [==============================] - 7s 803ms/step - loss: 0.2027 - accuracy: 0.9814\n"
          ]
        }
      ],
      "source": [
        "best_model.metrics_names\n",
        "loss, accuracy = best_model.evaluate(x=X_test, y=y_test)"
      ]
    },
    {
      "cell_type": "code",
      "execution_count": 30,
      "metadata": {
        "id": "zZds4iwDyY0r"
      },
      "outputs": [
        {
          "name": "stdout",
          "output_type": "stream",
          "text": [
            "Test Loss = 0.2027350813150406\n",
            "Test Accuracy = 0.9813953638076782\n"
          ]
        }
      ],
      "source": [
        "print (f\"Test Loss = {loss}\")\n",
        "print (f\"Test Accuracy = {accuracy}\")"
      ]
    },
    {
      "cell_type": "code",
      "execution_count": 31,
      "metadata": {
        "id": "chrlheSFymoj"
      },
      "outputs": [
        {
          "name": "stdout",
          "output_type": "stream",
          "text": [
            "7/7 [==============================] - 6s 793ms/step\n",
            "F1 score: 0.9852941176470589\n"
          ]
        }
      ],
      "source": [
        "y_test_prob = best_model.predict(X_test)\n",
        "f1score = compute_f1_score(y_test, y_test_prob)\n",
        "print(f\"F1 score: {f1score}\")"
      ]
    },
    {
      "cell_type": "code",
      "execution_count": 32,
      "metadata": {
        "id": "e0cMOO2Lyt9z"
      },
      "outputs": [
        {
          "name": "stdout",
          "output_type": "stream",
          "text": [
            "7/7 [==============================] - 7s 951ms/step\n",
            "F1 score: 0.9819494584837546\n"
          ]
        }
      ],
      "source": [
        "y_val_prob = best_model.predict(X_val)\n",
        "f1score_val = compute_f1_score(y_val, y_val_prob)\n",
        "print(f\"F1 score: {f1score_val}\")"
      ]
    },
    {
      "cell_type": "code",
      "execution_count": 33,
      "metadata": {
        "id": "9UU72wkLvTvN"
      },
      "outputs": [
        {
          "name": "stdout",
          "output_type": "stream",
          "text": [
            "Number of examples: 1432\n",
            "Percentage of positive examples: 65.08379888268156%, number of pos examples: 932\n",
            "Percentage of negative examples: 34.91620111731844%, number of neg examples: 500\n",
            "Training Data:\n",
            "Number of examples: 1002\n",
            "Percentage of positive examples: 65.6686626746507%, number of pos examples: 658\n",
            "Percentage of negative examples: 34.3313373253493%, number of neg examples: 344\n",
            "Validation Data:\n",
            "Number of examples: 215\n",
            "Percentage of positive examples: 63.72093023255814%, number of pos examples: 137\n",
            "Percentage of negative examples: 36.27906976744186%, number of neg examples: 78\n",
            "Testing Data:\n",
            "Number of examples: 215\n",
            "Percentage of positive examples: 63.72093023255814%, number of pos examples: 137\n",
            "Percentage of negative examples: 36.27906976744186%, number of neg examples: 78\n"
          ]
        }
      ],
      "source": [
        "def data_percentage(y):\n",
        "\n",
        "    m=len(y)\n",
        "    n_positive = np.sum(y)\n",
        "    n_negative = m - n_positive\n",
        "\n",
        "    pos_prec = (n_positive* 100.0)/ m\n",
        "    neg_prec = (n_negative* 100.0)/ m\n",
        "\n",
        "    print(f\"Number of examples: {m}\")\n",
        "    print(f\"Percentage of positive examples: {pos_prec}%, number of pos examples: {n_positive}\")\n",
        "    print(f\"Percentage of negative examples: {neg_prec}%, number of neg examples: {n_negative}\")\n",
        "\n",
        "# the whole data\n",
        "data_percentage(y)\n",
        "\n",
        "print(\"Training Data:\")\n",
        "data_percentage(y_train)\n",
        "print(\"Validation Data:\")\n",
        "data_percentage(y_val)\n",
        "print(\"Testing Data:\")\n",
        "data_percentage(y_test)"
      ]
    },
    {
      "cell_type": "code",
      "execution_count": 41,
      "metadata": {
        "colab": {
          "base_uri": "https://localhost:8080/",
          "height": 53
        },
        "id": "q6iETWjeyBtP",
        "outputId": "0f44361c-9b5b-4fdc-fade-5bed92651c88"
      },
      "outputs": [],
      "source": [
        "y_test_prob = [1 if i>=0.5 else 0 for i in y_test_prob]\n",
        "# y_test_prob"
      ]
    },
    {
      "cell_type": "code",
      "execution_count": 44,
      "metadata": {},
      "outputs": [
        {
          "data": {
            "image/png": "[encoded data removed]",
            "text/plain": [
              "<Figure size 640x480 with 2 Axes>"
            ]
          },
          "metadata": {},
          "output_type": "display_data"
        }
      ],
      "source": [
        "from sklearn.metrics import confusion_matrix, ConfusionMatrixDisplay\n",
        "cm = confusion_matrix(y_test, y_test_prob)\n",
        "disp = ConfusionMatrixDisplay(confusion_matrix=cm)\n",
        "disp.plot()\n",
        "plt.show()"
      ]
    },
    {
      "cell_type": "code",
      "execution_count": 46,
      "metadata": {},
      "outputs": [
        {
          "data": {
            "image/png": "[encoded data removed]",
            "text/plain": [
              "<Figure size 640x480 with 2 Axes>"
            ]
          },
          "metadata": {},
          "output_type": "display_data"
        }
      ],
      "source": [
        "y_val_prob = [1 if i>=0.5 else 0 for i in y_val_prob]\n",
        "cm = confusion_matrix(y_val, y_val_prob)\n",
        "disp = ConfusionMatrixDisplay(confusion_matrix=cm)\n",
        "disp.plot()\n",
        "plt.show()"
      ]
    },
    {
      "cell_type": "code",
      "execution_count": null,
      "metadata": {},
      "outputs": [],
      "source": []
    }
  ],
  "metadata": {
    "colab": {
      "provenance": []
    },
    "kernelspec": {
      "display_name": "Python 3",
      "name": "python3"
    },
    "language_info": {
      "codemirror_mode": {
        "name": "ipython",
        "version": 3
      },
      "file_extension": ".py",
      "mimetype": "text/x-python",
      "name": "python",
      "nbconvert_exporter": "python",
      "pygments_lexer": "ipython3",
      "version": "3.11.4"
    }
  },
  "nbformat": 4,
  "nbformat_minor": 0
}
